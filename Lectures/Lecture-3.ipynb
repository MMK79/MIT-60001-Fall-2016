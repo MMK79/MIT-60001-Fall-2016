{
 "cells": [
  {
   "cell_type": "code",
   "execution_count": 1,
   "metadata": {},
   "outputs": [
    {
     "name": "stdout",
     "output_type": "stream",
     "text": [
      "3\n"
     ]
    }
   ],
   "source": [
    "word = \"abd\"\n",
    "print(len(word))"
   ]
  },
  {
   "cell_type": "code",
   "execution_count": 8,
   "metadata": {},
   "outputs": [
    {
     "ename": "TypeError",
     "evalue": "'a' is an invalid keyword argument for print()",
     "output_type": "error",
     "traceback": [
      "\u001b[1;31m---------------------------------------------------------------------------\u001b[0m",
      "\u001b[1;31mTypeError\u001b[0m                                 Traceback (most recent call last)",
      "\u001b[1;32mc:\\Users\\Masuod\\Desktop\\Exercise\\MIT Programming\\Lecture-3.ipynb Cell 2\u001b[0m line \u001b[0;36m<cell line: 5>\u001b[1;34m()\u001b[0m\n\u001b[0;32m      <a href='vscode-notebook-cell:/c%3A/Users/Masuod/Desktop/Exercise/MIT%20Programming/Lecture-3.ipynb#W1sZmlsZQ%3D%3D?line=4'>5</a>\u001b[0m \u001b[39mfor\u001b[39;00m i \u001b[39min\u001b[39;00m \u001b[39mrange\u001b[39m(\u001b[39m0\u001b[39m,word_lenght):\n\u001b[0;32m      <a href='vscode-notebook-cell:/c%3A/Users/Masuod/Desktop/Exercise/MIT%20Programming/Lecture-3.ipynb#W1sZmlsZQ%3D%3D?line=5'>6</a>\u001b[0m     a \u001b[39m=\u001b[39m i\n\u001b[1;32m----> <a href='vscode-notebook-cell:/c%3A/Users/Masuod/Desktop/Exercise/MIT%20Programming/Lecture-3.ipynb#W1sZmlsZQ%3D%3D?line=6'>7</a>\u001b[0m     \u001b[39mprint\u001b[39;49m(\u001b[39m'\u001b[39;49m\u001b[39myour \u001b[39;49m\u001b[39m{a}\u001b[39;49;00m\u001b[39m string is \u001b[39;49m\u001b[39m{b}\u001b[39;49;00m\u001b[39m'\u001b[39;49m, a \u001b[39m=\u001b[39;49m i, b \u001b[39m=\u001b[39;49m word[i])\n\u001b[0;32m      <a href='vscode-notebook-cell:/c%3A/Users/Masuod/Desktop/Exercise/MIT%20Programming/Lecture-3.ipynb#W1sZmlsZQ%3D%3D?line=7'>8</a>\u001b[0m     \u001b[39mprint\u001b[39m(\u001b[39m'\u001b[39m\u001b[39myour\u001b[39m\u001b[39m'\u001b[39m, a,  \u001b[39m'\u001b[39m\u001b[39mstring is:\u001b[39m\u001b[39m'\u001b[39m,  word[i])\n",
      "\u001b[1;31mTypeError\u001b[0m: 'a' is an invalid keyword argument for print()"
     ]
    }
   ],
   "source": [
    "#Indexing\n",
    "\n",
    "word = input('enter your word/sentence')\n",
    "word_lenght = len(word)\n",
    "for i in range(0,word_lenght):\n",
    "    a = i\n",
    "    print('your', a,  'string is:',  word[i])\n"
   ]
  },
  {
   "cell_type": "code",
   "execution_count": 12,
   "metadata": {},
   "outputs": [
    {
     "ename": "TypeError",
     "evalue": "'a' is an invalid keyword argument for print()",
     "output_type": "error",
     "traceback": [
      "\u001b[1;31m---------------------------------------------------------------------------\u001b[0m",
      "\u001b[1;31mTypeError\u001b[0m                                 Traceback (most recent call last)",
      "\u001b[1;32mc:\\Users\\Masuod\\Desktop\\Exercise\\MIT Programming\\Lecture-3.ipynb Cell 3\u001b[0m line \u001b[0;36m<cell line: 3>\u001b[1;34m()\u001b[0m\n\u001b[0;32m      <a href='vscode-notebook-cell:/c%3A/Users/Masuod/Desktop/Exercise/MIT%20Programming/Lecture-3.ipynb#W2sZmlsZQ%3D%3D?line=1'>2</a>\u001b[0m word_lenght \u001b[39m=\u001b[39m \u001b[39mlen\u001b[39m(word)\n\u001b[0;32m      <a href='vscode-notebook-cell:/c%3A/Users/Masuod/Desktop/Exercise/MIT%20Programming/Lecture-3.ipynb#W2sZmlsZQ%3D%3D?line=2'>3</a>\u001b[0m \u001b[39mfor\u001b[39;00m i \u001b[39min\u001b[39;00m \u001b[39mrange\u001b[39m(\u001b[39m0\u001b[39m, word_lenght):\n\u001b[1;32m----> <a href='vscode-notebook-cell:/c%3A/Users/Masuod/Desktop/Exercise/MIT%20Programming/Lecture-3.ipynb#W2sZmlsZQ%3D%3D?line=3'>4</a>\u001b[0m     \u001b[39mprint\u001b[39;49m(\u001b[39m'\u001b[39;49m\u001b[39myour \u001b[39;49m\u001b[39m{a}\u001b[39;49;00m\u001b[39m string is \u001b[39;49m\u001b[39m{b}\u001b[39;49;00m\u001b[39m'\u001b[39;49m, a \u001b[39m=\u001b[39;49m i, b \u001b[39m=\u001b[39;49m word[i])\n",
      "\u001b[1;31mTypeError\u001b[0m: 'a' is an invalid keyword argument for print()"
     ]
    }
   ],
   "source": [
    "word= input('enter your word/sentence')\n",
    "word_lenght = len(word)\n",
    "for i in range(0, word_lenght):\n",
    "    print('your {a} string is {b}', a = i, b = word[i])\n",
    "#you can't do it like this"
   ]
  },
  {
   "cell_type": "code",
   "execution_count": 6,
   "metadata": {},
   "outputs": [
    {
     "name": "stdout",
     "output_type": "stream",
     "text": [
      "this your 0 string: h\n",
      "this your 1 string: e\n",
      "this your 2 string: l\n",
      "this your 3 string: l\n",
      "this your 4 string: o\n",
      "word[-5] = h \n",
      "word[-4] = e \n",
      "word[-3] = l \n",
      "word[-2] = l \n",
      "word[-1] = o \n",
      "word[-1] = o\n",
      "word[-2] = l\n",
      "word[-3] = l\n",
      "word[-4] = e\n",
      "word[-5] = h\n"
     ]
    }
   ],
   "source": [
    "word = input('enter your word/sentence')\n",
    "word_lenght = len(word)\n",
    "for i in range(0, word_lenght):\n",
    "    print('this your {} string: {}'.format(i, word[i]))\n",
    "for i in range(-word_lenght, 0):\n",
    "    print(f'word[{i}] = {word[i]} ')\n",
    "for i in range(1, word_lenght+1):\n",
    "    print(f\"word[{-i}] = {word[-i]}\")"
   ]
  },
  {
   "cell_type": "code",
   "execution_count": 14,
   "metadata": {},
   "outputs": [
    {
     "name": "stdout",
     "output_type": "stream",
     "text": [
      "this is your 0 string: h\n",
      "this is your 1 string: e\n",
      "this is your 2 string: l\n",
      "this is your 3 string: l\n",
      "this is your 4 string: o\n"
     ]
    }
   ],
   "source": [
    "word = input('enter your word/sentece')\n",
    "word_lenght = len(word)\n",
    "for i in range(0, word_lenght):\n",
    "    print(f\"this is your {i} string: {word[i]}\")"
   ]
  },
  {
   "cell_type": "code",
   "execution_count": 8,
   "metadata": {},
   "outputs": [
    {
     "name": "stdout",
     "output_type": "stream",
     "text": [
      "\n",
      "[[Sharif-Aritficial-Inteligence-1]]\n",
      "\n",
      "[[Sharif-Aritficial-Inteligence-2]]\n",
      "\n",
      "[[Sharif-Aritficial-Inteligence-3]]\n",
      "\n",
      "[[Sharif-Aritficial-Inteligence-4]]\n",
      "\n",
      "[[Sharif-Aritficial-Inteligence-5]]\n",
      "\n",
      "[[Sharif-Aritficial-Inteligence-6]]\n",
      "\n",
      "[[Sharif-Aritficial-Inteligence-7]]\n",
      "\n",
      "[[Sharif-Aritficial-Inteligence-8]]\n",
      "\n",
      "[[Sharif-Aritficial-Inteligence-9]]\n",
      "\n",
      "[[Sharif-Aritficial-Inteligence-10]]\n",
      "\n",
      "[[Sharif-Aritficial-Inteligence-11]]\n",
      "\n",
      "[[Sharif-Aritficial-Inteligence-12]]\n",
      "\n",
      "[[Sharif-Aritficial-Inteligence-13]]\n",
      "\n",
      "[[Sharif-Aritficial-Inteligence-14]]\n",
      "\n",
      "[[Sharif-Aritficial-Inteligence-15]]\n",
      "\n",
      "[[Sharif-Aritficial-Inteligence-16]]\n",
      "\n",
      "[[Sharif-Aritficial-Inteligence-17]]\n",
      "\n",
      "[[Sharif-Aritficial-Inteligence-18]]\n",
      "\n",
      "[[Sharif-Aritficial-Inteligence-19]]\n",
      "\n",
      "[[Sharif-Aritficial-Inteligence-20]]\n",
      "\n",
      "[[Sharif-Aritficial-Inteligence-21]]\n",
      "\n",
      "[[Sharif-Aritficial-Inteligence-22]]\n",
      "\n",
      "[[Sharif-Aritficial-Inteligence-23]]\n",
      "\n",
      "[[Sharif-Aritficial-Inteligence-24]]\n",
      "\n",
      "[[Sharif-Aritficial-Inteligence-25]]\n",
      "\n",
      "[[Sharif-Aritficial-Inteligence-26]]\n"
     ]
    }
   ],
   "source": [
    "for i in range(0, 26):\n",
    "    i += 1\n",
    "    print(f'\\n[[Sharif-Aritficial-Inteligence-{i}]]')\n"
   ]
  },
  {
   "cell_type": "code",
   "execution_count": 5,
   "metadata": {},
   "outputs": [
    {
     "name": "stdout",
     "output_type": "stream",
     "text": [
      "11\n",
      "llo wo\n"
     ]
    }
   ],
   "source": [
    "#trying Slicing\n",
    "word = input('enter your word/sentence')\n",
    "print(len(word))\n",
    "\n",
    "start_point = int(input('enter your start point'))\n",
    "while start_point < 0: \n",
    "    start_point = int(input('enter zero/positive start point'))\n",
    "    \n",
    "end_point = int(input('enter the end point you want'))\n",
    "while end_point > len(word):\n",
    "    end_point = int(input('your end point was higher than length of your word/sentence'))\n",
    "while end_point < 0:\n",
    "    end_point = int(input('your end point most be positive'))\n",
    "while end_point == start_point:\n",
    "    end_point = int(input('you can\\'t have the same start point and end point'))\n",
    "\n",
    "step = int(input('enter how you want to jump'))\n",
    "while step < 0:\n",
    "    step = int(input('you can\\'t have negative steps'))\n",
    "while step == 0:\n",
    "    step = int(input('you can\\'t have step zero'))\n",
    "    \n",
    "print(word[start_point: end_point: step])"
   ]
  },
  {
   "cell_type": "code",
   "execution_count": 19,
   "metadata": {},
   "outputs": [
    {
     "name": "stdout",
     "output_type": "stream",
     "text": [
      "bc\n",
      "\n"
     ]
    }
   ],
   "source": [
    "word = 'abcd'\n",
    "print(word[-3:3])\n",
    "print(word[0:3:-1])"
   ]
  },
  {
   "cell_type": "code",
   "execution_count": 20,
   "metadata": {},
   "outputs": [
    {
     "name": "stdout",
     "output_type": "stream",
     "text": [
      "19\n",
      "srqponmlkjihgfedcba\n",
      "srqponml\n"
     ]
    }
   ],
   "source": [
    "s = 'abcdefghijklmnopqrs'\n",
    "print(len(s))\n",
    "print(s[::-1])\n",
    "print(s[19:10:-1])"
   ]
  },
  {
   "cell_type": "code",
   "execution_count": 25,
   "metadata": {},
   "outputs": [
    {
     "ename": "TypeError",
     "evalue": "'str' object does not support item assignment",
     "output_type": "error",
     "traceback": [
      "\u001b[1;31m---------------------------------------------------------------------------\u001b[0m",
      "\u001b[1;31mTypeError\u001b[0m                                 Traceback (most recent call last)",
      "\u001b[1;32mc:\\Users\\Masuod\\Desktop\\Exercise\\MIT Programming\\Lecture-3.ipynb Cell 10\u001b[0m line \u001b[0;36m<cell line: 2>\u001b[1;34m()\u001b[0m\n\u001b[0;32m      <a href='vscode-notebook-cell:/c%3A/Users/Masuod/Desktop/Exercise/MIT%20Programming/Lecture-3.ipynb#X12sZmlsZQ%3D%3D?line=0'>1</a>\u001b[0m \u001b[39m#strings are immutable--> you can't modified them after you created them\u001b[39;00m\n\u001b[1;32m----> <a href='vscode-notebook-cell:/c%3A/Users/Masuod/Desktop/Exercise/MIT%20Programming/Lecture-3.ipynb#X12sZmlsZQ%3D%3D?line=1'>2</a>\u001b[0m s[\u001b[39m0\u001b[39m] \u001b[39m=\u001b[39m \u001b[39m'\u001b[39m\u001b[39m1\u001b[39m\u001b[39m'\u001b[39m\n",
      "\u001b[1;31mTypeError\u001b[0m: 'str' object does not support item assignment"
     ]
    }
   ],
   "source": [
    "#strings are immutable--> you can't modified them after you created them\n",
    "s[0] = '1'"
   ]
  },
  {
   "cell_type": "code",
   "execution_count": 23,
   "metadata": {},
   "outputs": [
    {
     "name": "stdout",
     "output_type": "stream",
     "text": [
      "1bcdefghijklmnopqrs\n"
     ]
    }
   ],
   "source": [
    "s ='1'+s[1:len(s)]\n",
    "print(s)"
   ]
  },
  {
   "cell_type": "code",
   "execution_count": 26,
   "metadata": {},
   "outputs": [],
   "source": [
    "s = 'abcdefgh'\n",
    "for index in range(len(s)):\n",
    "    if s[index] == 'i' or s[index] == 'u':\n",
    "        print('there is i or u')"
   ]
  },
  {
   "cell_type": "code",
   "execution_count": 28,
   "metadata": {},
   "outputs": [],
   "source": [
    "#this is more pythonic\n",
    "for char in s:\n",
    "    if char == 'i' or char == 'u':\n",
    "        print('there is i or u')"
   ]
  },
  {
   "cell_type": "code",
   "execution_count": 29,
   "metadata": {},
   "outputs": [
    {
     "name": "stdout",
     "output_type": "stream",
     "text": [
      "Give me a M!M\n",
      "Give me an a!a\n",
      "Give me a s!s\n",
      "Give me an o!o\n",
      "Give me an u!u\n",
      "Give me a d!d\n",
      "What does it spell?\n",
      "Masoud !!!\n",
      "Masoud !!!\n",
      "Masoud !!!\n",
      "Masoud !!!\n",
      "Masoud !!!\n"
     ]
    }
   ],
   "source": [
    "vowel = \"aAeEiIuUoO\"\n",
    "word = input('I will cheer for you, Enter the word: ')\n",
    "times = int(input('Enthusiasm level (1-10): '))\n",
    "\n",
    "i = 0\n",
    "while i < len(word):\n",
    "    char = word[i]\n",
    "    if char in vowel:\n",
    "        print('Give me an ' + char + '!' + char)\n",
    "    else:\n",
    "        print('Give me a ' + char + '!' + char)\n",
    "    i += 1\n",
    "print('What does it spell?')\n",
    "for i in range(times):\n",
    "    print(word,'!!!')"
   ]
  },
  {
   "cell_type": "code",
   "execution_count": 1,
   "metadata": {},
   "outputs": [
    {
     "name": "stdout",
     "output_type": "stream",
     "text": [
      "Give me a M!M\n",
      "Give me an a!a\n",
      "Give me a s!s\n",
      "Give me an o!o\n",
      "Give me an u!u\n",
      "Give me a d!d\n",
      "What does it spell?\n",
      "Masoud !!!\n",
      "Masoud !!!\n",
      "Masoud !!!\n",
      "Masoud !!!\n",
      "Masoud !!!\n"
     ]
    }
   ],
   "source": [
    "vowel = \"aAeEiIuUoO\"\n",
    "word = input('I will cheer for you, Enter the word: ')\n",
    "times = int(input('Enthusiasm level (1-10): '))\n",
    "\n",
    "for char in word:\n",
    "    if char in vowel:\n",
    "        print('Give me an ' + char + '!' + char)\n",
    "    else:\n",
    "        print('Give me a ' + char + '!' + char)\n",
    "print('What does it spell?')\n",
    "for i in range(times):\n",
    "    print(word,'!!!')\n"
   ]
  },
  {
   "cell_type": "markdown",
   "metadata": {},
   "source": [
    "## Algorithm\n",
    "Guess-and-Check (Exhaustive Enumeration)\n",
    "\n",
    "Bisection Search\n",
    "\n",
    "Approximation\n",
    " "
   ]
  },
  {
   "cell_type": "markdown",
   "metadata": {},
   "source": [
    "### Guess-and-Check (Exhaustive Enumeration)"
   ]
  },
  {
   "cell_type": "code",
   "execution_count": 2,
   "metadata": {},
   "outputs": [
    {
     "name": "stdout",
     "output_type": "stream",
     "text": [
      "Cube root of 8 is 2\n"
     ]
    }
   ],
   "source": [
    "cube = 8\n",
    "for guess in range(cube+1):\n",
    "    if guess**3 ==cube:\n",
    "        print('Cube root of', cube, \"is\", guess)"
   ]
  },
  {
   "cell_type": "code",
   "execution_count": 17,
   "metadata": {},
   "outputs": [
    {
     "name": "stdout",
     "output_type": "stream",
     "text": [
      "2\n",
      "225.0\n",
      "your number is 1.5\n"
     ]
    }
   ],
   "source": [
    "square = float(input('enter your number'))\n",
    "\n",
    "# int_square = int(square)\n",
    "# print(int_square)\n",
    "# print(float(int_square))\n",
    "# float_part = square - float(int_square)\n",
    "# print(float_part)\n",
    "# print(2.13 - 2.0)\n",
    "\n",
    "# print(str(square).split('.'))\n",
    "float_part_count = str(square).split('.')[1]\n",
    "num_digits = len(float_part_count)\n",
    "print(num_digits)\n",
    "square_times = square*(10**num_digits)\n",
    "print(square_times)\n",
    "for guess in range(int(square_times)+1):\n",
    "    if guess**2 == int(square_times):\n",
    "        print('your number is' , float(guess)/(10**(num_digits/2)))\n",
    "\n",
    "\n",
    "# for guess in range(0, int_square):\n",
    "#     if guess == "
   ]
  },
  {
   "cell_type": "code",
   "execution_count": 24,
   "metadata": {},
   "outputs": [
    {
     "name": "stdout",
     "output_type": "stream",
     "text": [
      "cube root of -8 is -2\n"
     ]
    }
   ],
   "source": [
    "cube = int(input('enter your number'))\n",
    "for guess in range(abs(cube)+1):\n",
    "    if guess**3 >= abs(cube):\n",
    "        break\n",
    "if guess**3 != abs(cube):\n",
    "    print(cube, 'is not a perfect cube')\n",
    "else:\n",
    "    if cube<0:\n",
    "        guess = -guess\n",
    "        # print('cube root of ' + str(cube) + ' is ' + str(guess))\n",
    "        print(f'cube root of {cube} is {guess}')"
   ]
  },
  {
   "cell_type": "markdown",
   "metadata": {},
   "source": [
    "### Aproximate Solution\n",
    "good enough solution\n",
    "start with a guess and increment by some small value"
   ]
  },
  {
   "cell_type": "code",
   "execution_count": 26,
   "metadata": {},
   "outputs": [
    {
     "name": "stdout",
     "output_type": "stream",
     "text": [
      "number of guess = 29997\n",
      "2.999700000001906 is close to the cube root of 27\n"
     ]
    }
   ],
   "source": [
    "cube = 27\n",
    "epsilon = 0.01\n",
    "guess = 0.0\n",
    "increment = 0.0001\n",
    "num_guesses = 0\n",
    "while abs(guess**3 - cube) >= epsilon and guess <= cube:\n",
    "    guess = guess + increment\n",
    "    num_guesses += 1\n",
    "print('number of guess =', num_guesses)\n",
    "if abs(guess**3 - cube) >= epsilon:\n",
    "    print('Failed on cube root of', cube)\n",
    "else:\n",
    "    print(guess, 'is close to the cube root of', cube)"
   ]
  },
  {
   "cell_type": "markdown",
   "metadata": {},
   "source": [
    "### Bisection Search\n"
   ]
  },
  {
   "cell_type": "code",
   "execution_count": 7,
   "metadata": {},
   "outputs": [
    {
     "name": "stdout",
     "output_type": "stream",
     "text": [
      "Number of guess = 1\n",
      "0.25 is close to the cube root of 0.0225\n"
     ]
    }
   ],
   "source": [
    "cube = 0.0225\n",
    "epsilon = 0.01\n",
    "num_guesses = 0\n",
    "low = 0\n",
    "\n",
    "# the code would have not worked for numbers under 1 so you can handle it this way\n",
    "if cube < 1:\n",
    "    high = 1\n",
    "else:\n",
    "    high = cube\n",
    "guess = (high + low)/2.0\n",
    "\n",
    "\n",
    "while abs(guess**3 - cube) >= epsilon:\n",
    "    if guess**3 < cube:\n",
    "        low = guess\n",
    "    else:\n",
    "        high = guess\n",
    "    guess = (high + low)/2.0\n",
    "    num_guesses += 1\n",
    "print('Number of guess =', num_guesses)\n",
    "print(guess, 'is close to the cube root of', cube)"
   ]
  },
  {
   "cell_type": "markdown",
   "metadata": {},
   "source": [
    "the program above only work for number higher than 1 and positive ones so fix it to work for these part too"
   ]
  },
  {
   "cell_type": "code",
   "execution_count": 4,
   "metadata": {},
   "outputs": [
    {
     "name": "stdout",
     "output_type": "stream",
     "text": [
      "[[Industrial Engineering/Data Mining/Session-0]]\n",
      "[[Industrial Engineering/Data Mining/Session-1]]\n",
      "[[Industrial Engineering/Data Mining/Session-2]]\n",
      "[[Industrial Engineering/Data Mining/Session-3]]\n",
      "[[Industrial Engineering/Data Mining/Session-4]]\n",
      "[[Industrial Engineering/Data Mining/Session-5]]\n",
      "[[Industrial Engineering/Data Mining/Session-6]]\n",
      "[[Industrial Engineering/Data Mining/Session-7]]\n",
      "[[Industrial Engineering/Data Mining/Session-8]]\n",
      "[[Industrial Engineering/Data Mining/Session-9]]\n",
      "[[Industrial Engineering/Data Mining/Session-10]]\n",
      "[[Industrial Engineering/Data Mining/Session-11]]\n",
      "[[Industrial Engineering/Data Mining/Session-12]]\n",
      "[[Industrial Engineering/Data Mining/Session-13]]\n",
      "[[Industrial Engineering/Data Mining/Session-14]]\n",
      "[[Industrial Engineering/Data Mining/Session-15]]\n",
      "[[Industrial Engineering/Data Mining/Session-16]]\n",
      "[[Industrial Engineering/Data Mining/Session-17]]\n",
      "[[Industrial Engineering/Data Mining/Session-18]]\n",
      "[[Industrial Engineering/Data Mining/Session-19]]\n",
      "[[Industrial Engineering/Data Mining/Session-20]]\n",
      "[[Industrial Engineering/Data Mining/Session-21]]\n",
      "[[Industrial Engineering/Data Mining/Session-22]]\n"
     ]
    }
   ],
   "source": [
    "for i in range(0, 23):\n",
    "    print(f\"[[Industrial Engineering/Data Mining/Session-{i}]]\")"
   ]
  }
 ],
 "metadata": {
  "kernelspec": {
   "display_name": "Python 3",
   "language": "python",
   "name": "python3"
  },
  "language_info": {
   "codemirror_mode": {
    "name": "ipython",
    "version": 3
   },
   "file_extension": ".py",
   "mimetype": "text/x-python",
   "name": "python",
   "nbconvert_exporter": "python",
   "pygments_lexer": "ipython3",
   "version": "3.8.6"
  }
 },
 "nbformat": 4,
 "nbformat_minor": 2
}
