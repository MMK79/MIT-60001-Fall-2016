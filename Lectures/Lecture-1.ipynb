{
 "cells": [
  {
   "cell_type": "code",
   "execution_count": 19,
   "metadata": {},
   "outputs": [
    {
     "name": "stdout",
     "output_type": "stream",
     "text": [
      "<class 'int'>\n",
      "<class 'float'>\n",
      "type before conversion <class 'int'> type after conversion <class 'float'>\n",
      "type before conversion<class 'int'>type after conversion <class 'float'>\n",
      "typer before conversion<class 'int'>type after converstion<class 'float'>\n"
     ]
    }
   ],
   "source": [
    "print(type(5))\n",
    "\n",
    "print(type(3.0))\n",
    "\n",
    "a = type(3)\n",
    "b = type(float(3))\n",
    "\n",
    "print('type before conversion', a, 'type after conversion', b)\n",
    "\n",
    "print('type before conversion' + str(a) + 'type after conversion', str(b))\n",
    "\n",
    "print('typer before conversion' + str(type(3)) + 'type after converstion' + str(type(float(3))))"
   ]
  },
  {
   "cell_type": "code",
   "execution_count": 21,
   "metadata": {},
   "outputs": [
    {
     "name": "stdout",
     "output_type": "stream",
     "text": [
      "<class 'int'>\n",
      "<class 'float'>\n",
      "type before conversion <class 'int'> type after conversion <class 'float'>\n",
      "type before conversion<class 'int'>type after conversion <class 'float'>\n",
      "typer before conversion<class 'int'>type after converstion<class 'float'>\n",
      "type and value before conversion <class 'int'> value before change of type 3 type after conversion <class 'float'> value after conversion 3.0\n"
     ]
    }
   ],
   "source": [
    "print(type(5))\n",
    "\n",
    "print(type(3.0))\n",
    "\n",
    "c = 3\n",
    "\n",
    "a = type(c)\n",
    "b = type(float(c))\n",
    "\n",
    "print('type before conversion', a, 'type after conversion', b)\n",
    "\n",
    "print('type before conversion' + str(a) + 'type after conversion', str(b))\n",
    "\n",
    "print('typer before conversion' + str(type(c)) + 'type after converstion' + str(type(float(c))))\n",
    "\n",
    "print('type and value before conversion ' + str(type(c)) + ' value before change of type ' + str(c) + ' type after conversion ' + str(type(float(c))) + ' value after conversion ' + str(float(c)) )"
   ]
  },
  {
   "cell_type": "code",
   "execution_count": 24,
   "metadata": {},
   "outputs": [
    {
     "name": "stdout",
     "output_type": "stream",
     "text": [
      "3.14\n",
      "3.142857142857143\n",
      "314.0\n"
     ]
    }
   ],
   "source": [
    "pi = 3.14\n",
    "radius = 10\n",
    "area = pi*(radius**2) \n",
    "pi_approximate = 22/7\n",
    "\n",
    "print(pi)\n",
    "\n",
    "print(pi_approximate)\n",
    "\n",
    "print(area)"
   ]
  },
  {
   "cell_type": "code",
   "execution_count": 28,
   "metadata": {},
   "outputs": [
    {
     "name": "stdout",
     "output_type": "stream",
     "text": [
      "254.34\n",
      "254.34\n"
     ]
    }
   ],
   "source": [
    "pi = 3.14\n",
    "radius = 9\n",
    "area = pi*(radius**2)\n",
    "\n",
    "print(area)\n",
    "\n",
    "radius = radius + 1\n",
    "\n",
    "print(area)\n",
    "#your coude will not recalculate the area after change in the radius and you need to do it again to see the change"
   ]
  },
  {
   "cell_type": "code",
   "execution_count": 31,
   "metadata": {},
   "outputs": [
    {
     "name": "stdout",
     "output_type": "stream",
     "text": [
      "314.0\n"
     ]
    }
   ],
   "source": [
    "area = pi*(radius**2)\n",
    "print(area)"
   ]
  },
  {
   "cell_type": "code",
   "execution_count": 34,
   "metadata": {},
   "outputs": [
    {
     "name": "stdout",
     "output_type": "stream",
     "text": [
      "your name is masoud\\\n"
     ]
    }
   ],
   "source": [
    "a = input('tell me your name')\n",
    "print('your name is', a)"
   ]
  },
  {
   "cell_type": "code",
   "execution_count": 35,
   "metadata": {},
   "outputs": [
    {
     "name": "stdout",
     "output_type": "stream",
     "text": [
      "46\n"
     ]
    }
   ],
   "source": [
    "print(6+4*10)"
   ]
  },
  {
   "cell_type": "code",
   "execution_count": 38,
   "metadata": {},
   "outputs": [
    {
     "name": "stdout",
     "output_type": "stream",
     "text": [
      "46\n",
      "100\n",
      "6436343\n"
     ]
    }
   ],
   "source": [
    "a = 6\n",
    "b = 4\n",
    "c = 10\n",
    "\n",
    "print(a + b*c)\n",
    "\n",
    "print((a+b)*10)\n",
    "\n",
    "print(23**5)"
   ]
  },
  {
   "cell_type": "code",
   "execution_count": 46,
   "metadata": {},
   "outputs": [
    {
     "name": "stdout",
     "output_type": "stream",
     "text": [
      "your equation is 34x^2 + 68x +510\n",
      "-64736\n",
      "your equation have no root\n"
     ]
    }
   ],
   "source": [
    "import math\n",
    "\n",
    "a = int(input('enter Coefficient of x power 2'))\n",
    "b = int(input('enter the Coefficient of x'))\n",
    "c = int(input('enter Width from the origin for equation'))\n",
    "\n",
    "delta = b*b - 4*a*c\n",
    "\n",
    "print('your equation is ' + str(a) +'x^2 + ' + str(b) + 'x +' + str(c) )\n",
    "\n",
    "print(delta)\n",
    "\n",
    "if delta > 0:\n",
    "    print('you have two distinct real roots')\n",
    "    e = math.sqrt(delta)\n",
    "    positive_root = (-b + e)/ 2*a\n",
    "    negative_root = (-b - e)/2*a\n",
    "    print('your positive root is ', positive_root, 'your negative root is', negative_root)\n",
    "elif delta == 0: \n",
    "    print('your equation only have on ereal root')\n",
    "    only_root = -b/2*a\n",
    "else:\n",
    "    print('your equation have no root')\n",
    "    "
   ]
  }
 ],
 "metadata": {
  "kernelspec": {
   "display_name": "Python 3",
   "language": "python",
   "name": "python3"
  },
  "language_info": {
   "codemirror_mode": {
    "name": "ipython",
    "version": 3
   },
   "file_extension": ".py",
   "mimetype": "text/x-python",
   "name": "python",
   "nbconvert_exporter": "python",
   "pygments_lexer": "ipython3",
   "version": "3.8.6"
  }
 },
 "nbformat": 4,
 "nbformat_minor": 2
}
