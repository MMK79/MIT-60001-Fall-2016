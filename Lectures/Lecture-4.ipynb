{
 "cells": [
  {
   "cell_type": "markdown",
   "metadata": {},
   "source": [
    "## Function\n",
    "machanism to achive decomposition and abstraction\n",
    "\n",
    "Abstraction: you do not need to know how projectors work to use them\n",
    "\n",
    "Decomposition: different devices work together to achieve and end goal - Creating Structure in your code\n",
    "\n",
    "in programming, divide code into modules:\n",
    "* are self-contianed\n",
    "* used to break up code\n",
    "* intended to be reusable\n",
    "* keep code organized\n",
    "* keep code coherent\n",
    "\n",
    "in programming, think of pieace of code as a black box - achive abstraction with function specification or docstrings:\n",
    "* can not see the details\n",
    "* do not need to see the details\n",
    "* do not want to see the details\n",
    "* hide tedious coding details\n",
    "\n",
    "when you writing function you need to put 2 hats on:\n",
    "1. as the one who is writing the function\n",
    "2. as the one who is using the function\n",
    "\n",
    "Functions:\n",
    "write reusable piece/chunk of code, called function\n",
    "* function are not run in program until they are called or invoked in program\n",
    "\n",
    "**Function Charectristic:**\n",
    "* has name\n",
    "* has parameters\n",
    "* has docstring\n",
    "* has a body\n",
    "* returns something"
   ]
  },
  {
   "cell_type": "code",
   "execution_count": 1,
   "metadata": {},
   "outputs": [
    {
     "name": "stdout",
     "output_type": "stream",
     "text": [
      "inside is_even\n"
     ]
    },
    {
     "data": {
      "text/plain": [
       "False"
      ]
     },
     "execution_count": 1,
     "metadata": {},
     "output_type": "execute_result"
    }
   ],
   "source": [
    "def is_even(i):\n",
    "    \"\"\"_summary_\n",
    "    \n",
    "    Input: i, a positive int\n",
    "    Returns True if i is even, otherwise False\n",
    "    \n",
    "    \"\"\"\n",
    "    \n",
    "    print(\"inside is_even\")\n",
    "    return 1%2 == 0\n",
    "\n",
    "is_even(5)"
   ]
  },
  {
   "cell_type": "markdown",
   "metadata": {},
   "source": [
    "Waht is inside the function body?\n",
    "\n",
    "You can put anything inside the function body, you can think of function sort of a small procedure or a little mini-program that does something. So you can do anythiing inside the function.\n",
    "\n",
    "The last line is the most important part of the fucntion: The Return statement\n",
    "\n",
    "it is the line of code that start with 'return' which is a keyword and then it is going to be some value.\n",
    "this is an expression that's going to evaluate to some value.\n",
    "\n",
    "as long as this part is something that evalueate some value it can be anything you want\n",
    "\n",
    "and this line here return something tells Python, OK after you finished executing everything inside the function, what value should I return?"
   ]
  },
  {
   "cell_type": "markdown",
   "metadata": {},
   "source": [
    "**Scope**\n",
    "is another word for fram/environment \n",
    "if you think of function as little mini-programs, the scope of the function is going to be a compeletely seperate environment than the environment of the main program.\n",
    "\n",
    "So as soon as you make a function call, behind the scenes what Python says is, OK I am in the main program but I see a function call. I am going to step out of this main program, I'm going to go off to this new environment. I'm going to create entirely new set of variable that just exist within this environment. I'm gonna do some computation, when I see the return, I'm going to take this one return value. I'm going to exit that environment and then I'm going to come back to the main program.\n",
    "\n",
    "So as you're entering from one scope to another, you're sort of passing these value back and forth. So when you entering the scope, you're passing a variable into the function, and when the function's finished you're passing a value to whoever called it.\n"
   ]
  },
  {
   "cell_type": "code",
   "execution_count": 4,
   "metadata": {},
   "outputs": [
    {
     "name": "stdout",
     "output_type": "stream",
     "text": [
      "in f(x): x = 4\n",
      "3\n"
     ]
    }
   ],
   "source": [
    "def f (x):\n",
    "    x = x + 1\n",
    "    print('in f(x): x =', x)\n",
    "    return x\n",
    "\n",
    "x = 3\n",
    "z = f(x)\n",
    "\n",
    "print(x)\n"
   ]
  },
  {
   "cell_type": "markdown",
   "metadata": {},
   "source": [
    "**Warning**\n",
    "if you don't explicitly put a return statement, Python is going to add one for you, and it is going to actually return None, and None is a value for special type called NonType and it represent the absence of the value.\n"
   ]
  },
  {
   "cell_type": "code",
   "execution_count": 9,
   "metadata": {},
   "outputs": [
    {
     "name": "stdout",
     "output_type": "stream",
     "text": [
      "with return\n",
      "with return\n",
      "False\n",
      "without return\n",
      "without return\n",
      "None\n"
     ]
    }
   ],
   "source": [
    "def is_even_with_return(i):\n",
    "    \"\"\"\n",
    "    Input: i, a positive int\n",
    "    Returns True if i is even, otherwise False\n",
    "    \"\"\" \n",
    "    print('with return')\n",
    "    remainder = i % 2\n",
    "    return remainder == 0\n",
    " \n",
    "is_even_with_return(3)\n",
    "print(is_even_with_return(3))\n",
    "\n",
    "def is_even_without_return(i):\n",
    "    print('without return')\n",
    "    remainder = 1 % 2\n",
    "    \n",
    "is_even_without_return(3)\n",
    "print(is_even_without_return(3))"
   ]
  },
  {
   "cell_type": "code",
   "execution_count": 10,
   "metadata": {},
   "outputs": [
    {
     "name": "stdout",
     "output_type": "stream",
     "text": [
      "0 is even\n",
      "1 is odd\n",
      "2 is even\n",
      "3 is odd\n",
      "4 is even\n",
      "5 is odd\n",
      "6 is even\n",
      "7 is odd\n",
      "8 is even\n",
      "9 is odd\n",
      "10 is even\n",
      "11 is odd\n",
      "12 is even\n",
      "13 is odd\n",
      "14 is even\n",
      "15 is odd\n",
      "16 is even\n",
      "17 is odd\n",
      "18 is even\n",
      "19 is odd\n",
      "20 is even\n"
     ]
    }
   ],
   "source": [
    "def is_even(i):\n",
    "    \"\"\"\n",
    "    Input: i, a positive int\n",
    "    Returns True if i is even, otherwise False\n",
    "    \"\"\"\n",
    "    remainder = i % 2\n",
    "    return remainder == 0\n",
    "\n",
    "for i in range (0, 21):\n",
    "    if is_even(i):\n",
    "        print(f\"{i} is even\")\n",
    "    else:\n",
    "        print(f\"{i} is odd\")"
   ]
  },
  {
   "cell_type": "markdown",
   "metadata": {},
   "source": [
    "**In Python everything is object, Even Functions**"
   ]
  },
  {
   "cell_type": "code",
   "execution_count": 13,
   "metadata": {},
   "outputs": [
    {
     "name": "stdout",
     "output_type": "stream",
     "text": [
      "<function func_a at 0x000002230B1B8550>\n",
      "Inside func_b\n",
      "7\n",
      "Inside func_c\n",
      "inside func_a\n",
      "None\n"
     ]
    }
   ],
   "source": [
    "def func_a():\n",
    "    print('inside func_a')\n",
    "def func_b(y):\n",
    "    print('Inside func_b')\n",
    "    return y\n",
    "def func_c(z):\n",
    "    print('Inside func_c')\n",
    "    return z()\n",
    "print(func_a())\n",
    "print( 5 + func_b(2))\n",
    "print(func_c(func_a))"
   ]
  },
  {
   "cell_type": "markdown",
   "metadata": {},
   "source": [
    "Scope Examples\n",
    "* Inside a function, can access a variable defined outside\n",
    "* Inside a function, cannot modify a variable defined outside -- can using global variablel, but frowned upon"
   ]
  },
  {
   "cell_type": "code",
   "execution_count": null,
   "metadata": {},
   "outputs": [],
   "source": [
    "def g(x):\n",
    "    def h():\n",
    "        x = 'abc'\n",
    "    x = x + 1\n",
    "    print('g: x =', x)\n",
    "    h()\n",
    "    return x\n",
    "\n",
    "x = 3\n",
    "z = g(x)"
   ]
  }
 ],
 "metadata": {
  "kernelspec": {
   "display_name": "Python 3",
   "language": "python",
   "name": "python3"
  },
  "language_info": {
   "codemirror_mode": {
    "name": "ipython",
    "version": 3
   },
   "file_extension": ".py",
   "mimetype": "text/x-python",
   "name": "python",
   "nbconvert_exporter": "python",
   "pygments_lexer": "ipython3",
   "version": "3.8.6"
  }
 },
 "nbformat": 4,
 "nbformat_minor": 2
}
